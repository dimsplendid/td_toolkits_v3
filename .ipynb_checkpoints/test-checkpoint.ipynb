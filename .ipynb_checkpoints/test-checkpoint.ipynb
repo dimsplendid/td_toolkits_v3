{
 "cells": [
  {
   "cell_type": "code",
   "execution_count": 3,
   "id": "13d2970f-714c-4b55-b83b-cfbf125a4d8d",
   "metadata": {},
   "outputs": [],
   "source": [
    "a = LiquidCrystal.objects.filter(name__in=[None])"
   ]
  },
  {
   "cell_type": "code",
   "execution_count": 4,
   "id": "5685435c-4f25-4402-b1bc-aa803a4ab8d2",
   "metadata": {},
   "outputs": [
    {
     "data": {
      "text/plain": [
       "False"
      ]
     },
     "execution_count": 4,
     "metadata": {},
     "output_type": "execute_result"
    }
   ],
   "source": [
    "a.exists()"
   ]
  },
  {
   "cell_type": "code",
   "execution_count": null,
   "id": "34b44b70-e1d9-45bf-9284-749cafdf6061",
   "metadata": {},
   "outputs": [],
   "source": [
    "VoltageHoldingRatio.objects.filter()"
   ]
  },
  {
   "cell_type": "code",
   "execution_count": 11,
   "id": "28818160-1056-4a04-ba81-67981a946861",
   "metadata": {},
   "outputs": [
    {
     "name": "stdout",
     "output_type": "stream",
     "text": [
      "CPU times: user 1 µs, sys: 1e+03 ns, total: 2 µs\n",
      "Wall time: 3.81 µs\n"
     ]
    }
   ],
   "source": [
    "%time\n",
    "%reload_ext autoreload\n",
    "%autoreload 2\n",
    "import numpy as np\n",
    "import pandas as pd\n",
    "\n",
    "from td_toolkits_v3.reliabilities.tools.utils import ReliabilityScore, table_shrink\n",
    "query = (\n",
    "    LiquidCrystal.objects.all(),\n",
    "    Polyimide.objects.all(),\n",
    "    Seal.objects.all(),\n",
    ")\n",
    "\n",
    "profile = ReliabilitySearchProfile.objects.get(name='Default')\n",
    "\n",
    "ra_score = ReliabilityScore(query, profile)\n"
   ]
  },
  {
   "cell_type": "code",
   "execution_count": 42,
   "id": "e6c45bb4-994f-4ad4-aed2-75dd6dccc7b3",
   "metadata": {},
   "outputs": [
    {
     "data": {
      "text/plain": [
       "array(['RB005'], dtype=object)"
      ]
     },
     "execution_count": 42,
     "metadata": {},
     "output_type": "execute_result"
    }
   ],
   "source": [
    "ra_score.table_voltage_holding_ratio['raw']['PI'].unique()"
   ]
  },
  {
   "cell_type": "code",
   "execution_count": 38,
   "id": "ef88045e-d5f6-48e1-80b0-237b317cf8d7",
   "metadata": {},
   "outputs": [
    {
     "data": {
      "text/plain": [
       "array([0.5, 0.5, 0.5])"
      ]
     },
     "execution_count": 38,
     "metadata": {},
     "output_type": "execute_result"
    }
   ],
   "source": [
    "np.array([0.5]*3)"
   ]
  },
  {
   "cell_type": "code",
   "execution_count": 41,
   "id": "cdbbc8ff-eb1a-4cd2-a507-f84a7c190363",
   "metadata": {},
   "outputs": [
    {
     "data": {
      "image/png": "[encoded data removed]",
      "text/plain": [
       "<Figure size 432x288 with 2 Axes>"
      ]
     },
     "metadata": {
      "needs_background": "light"
     },
     "output_type": "display_data"
    }
   ],
   "source": [
    "import matplotlib.pyplot as plt\n",
    "\n",
    "ratio_range = np.arange(0.5, 4, 0.1)\n",
    "columns_lens = []\n",
    "rows_lens = []\n",
    "for i in ratio_range:\n",
    "    df = table_shrink(ra_score.result['all'], ratio=i)\n",
    "    columns_lens.append(len(df.columns)-3)\n",
    "    rows_lens.append(len(df))\n",
    "\n",
    "# plot the feature lenth change\n",
    "fig, ax1 = plt.subplots()\n",
    "color = 'tab:red'\n",
    "ax1.set_xlabel('ratio')\n",
    "ax1.set_ylabel('features', color=color)\n",
    "ax1.plot(ratio_range, columns_lens, color=color)\n",
    "ax1.tick_params(axis='y', labelcolor=color)\n",
    "\n",
    "ax2 = ax1.twinx()\n",
    "\n",
    "color = 'tab:blue'\n",
    "ax2.set_ylabel('# of logs', color=color)  # we already handled the x-label with ax1\n",
    "ax2.plot(ratio_range, rows_lens, color=color)\n",
    "ax2.tick_params(axis='y', labelcolor=color)\n",
    "\n",
    "fig.tight_layout()  # otherwise the right y-label is slightly clipped\n",
    "plt.show()"
   ]
  },
  {
   "cell_type": "code",
   "execution_count": 185,
   "id": "b8e4fcf6-6bdf-4731-9623-baaa3d0eb4dc",
   "metadata": {},
   "outputs": [
    {
     "data": {
      "text/plain": [
       "{'a': 1, 'b': 1}"
      ]
     },
     "execution_count": 185,
     "metadata": {},
     "output_type": "execute_result"
    }
   ],
   "source": [
    "a = {'a': 1}\n",
    "b = {'b': 1}\n",
    "{**a, **b}"
   ]
  },
  {
   "cell_type": "code",
   "execution_count": 30,
   "id": "462be0ce-534e-48fa-8f9f-cce616f9594e",
   "metadata": {},
   "outputs": [],
   "source": [
    "df = ra_score.table_adhesion"
   ]
  },
  {
   "cell_type": "code",
   "execution_count": 32,
   "id": "b0c69148-54fe-49ba-9ad4-a18f32e36b32",
   "metadata": {},
   "outputs": [
    {
     "data": {
      "text/html": [
       "<div>\n",
       "<style scoped>\n",
       "    .dataframe tbody tr th:only-of-type {\n",
       "        vertical-align: middle;\n",
       "    }\n",
       "\n",
       "    .dataframe tbody tr th {\n",
       "        vertical-align: top;\n",
       "    }\n",
       "\n",
       "    .dataframe thead th {\n",
       "        text-align: right;\n",
       "    }\n",
       "</style>\n",
       "<table border=\"1\" class=\"dataframe\">\n",
       "  <thead>\n",
       "    <tr style=\"text-align: right;\">\n",
       "      <th></th>\n",
       "      <th>Adhesion test</th>\n",
       "      <th>U-shape AC%</th>\n",
       "      <th>VHR(heat)</th>\n",
       "      <th>LTS</th>\n",
       "      <th>Seal WVTR</th>\n",
       "    </tr>\n",
       "  </thead>\n",
       "  <tbody>\n",
       "    <tr>\n",
       "      <th>100</th>\n",
       "      <td>22.065000</td>\n",
       "      <td>0.274558</td>\n",
       "      <td>93.28</td>\n",
       "      <td>21.0</td>\n",
       "      <td>113.64</td>\n",
       "    </tr>\n",
       "    <tr>\n",
       "      <th>143</th>\n",
       "      <td>26.646667</td>\n",
       "      <td>0.732754</td>\n",
       "      <td>83.90</td>\n",
       "      <td>10.0</td>\n",
       "      <td>102.05</td>\n",
       "    </tr>\n",
       "    <tr>\n",
       "      <th>144</th>\n",
       "      <td>22.065000</td>\n",
       "      <td>0.732754</td>\n",
       "      <td>92.58</td>\n",
       "      <td>10.0</td>\n",
       "      <td>113.64</td>\n",
       "    </tr>\n",
       "    <tr>\n",
       "      <th>152</th>\n",
       "      <td>27.580000</td>\n",
       "      <td>0.732754</td>\n",
       "      <td>80.50</td>\n",
       "      <td>10.0</td>\n",
       "      <td>136.50</td>\n",
       "    </tr>\n",
       "    <tr>\n",
       "      <th>320</th>\n",
       "      <td>22.065000</td>\n",
       "      <td>0.399366</td>\n",
       "      <td>97.02</td>\n",
       "      <td>11.0</td>\n",
       "      <td>113.64</td>\n",
       "    </tr>\n",
       "  </tbody>\n",
       "</table>\n",
       "</div>"
      ],
      "text/plain": [
       "     Adhesion test  U-shape AC%  VHR(heat)   LTS  Seal WVTR\n",
       "100      22.065000     0.274558      93.28  21.0     113.64\n",
       "143      26.646667     0.732754      83.90  10.0     102.05\n",
       "144      22.065000     0.732754      92.58  10.0     113.64\n",
       "152      27.580000     0.732754      80.50  10.0     136.50\n",
       "320      22.065000     0.399366      97.02  11.0     113.64"
      ]
     },
     "execution_count": 32,
     "metadata": {},
     "output_type": "execute_result"
    }
   ],
   "source": [
    "table_shrink(ra_score.result['all'], ratio=2).iloc[:10, 3:]"
   ]
  },
  {
   "cell_type": "code",
   "execution_count": 28,
   "id": "e0d5c8ed-234b-4288-92a2-e725efbb5a50",
   "metadata": {},
   "outputs": [
    {
     "data": {
      "text/html": [
       "<div>\n",
       "<style scoped>\n",
       "    .dataframe tbody tr th:only-of-type {\n",
       "        vertical-align: middle;\n",
       "    }\n",
       "\n",
       "    .dataframe tbody tr th {\n",
       "        vertical-align: top;\n",
       "    }\n",
       "\n",
       "    .dataframe thead th {\n",
       "        text-align: right;\n",
       "    }\n",
       "</style>\n",
       "<table border=\"1\" class=\"dataframe\">\n",
       "  <thead>\n",
       "    <tr style=\"text-align: right;\">\n",
       "      <th></th>\n",
       "      <th>LC</th>\n",
       "      <th>PI</th>\n",
       "      <th>Seal</th>\n",
       "      <th>Adhesion test</th>\n",
       "      <th>Δ angle</th>\n",
       "      <th>U-shape AC%</th>\n",
       "      <th>VHR(heat)</th>\n",
       "      <th>LTS</th>\n",
       "      <th>PCT</th>\n",
       "      <th>Seal WVTR</th>\n",
       "    </tr>\n",
       "  </thead>\n",
       "  <tbody>\n",
       "    <tr>\n",
       "      <th>100</th>\n",
       "      <td>ILD843001</td>\n",
       "      <td>RB005</td>\n",
       "      <td>723K1M</td>\n",
       "      <td>22.065000</td>\n",
       "      <td>NaN</td>\n",
       "      <td>0.274558</td>\n",
       "      <td>93.28</td>\n",
       "      <td>21.0</td>\n",
       "      <td>NaN</td>\n",
       "      <td>113.64</td>\n",
       "    </tr>\n",
       "    <tr>\n",
       "      <th>102</th>\n",
       "      <td>ILD843001</td>\n",
       "      <td>RB005</td>\n",
       "      <td>SNP07</td>\n",
       "      <td>29.670000</td>\n",
       "      <td>NaN</td>\n",
       "      <td>0.274558</td>\n",
       "      <td>NaN</td>\n",
       "      <td>21.0</td>\n",
       "      <td>NaN</td>\n",
       "      <td>58.00</td>\n",
       "    </tr>\n",
       "    <tr>\n",
       "      <th>99</th>\n",
       "      <td>ILD843001</td>\n",
       "      <td>RB005</td>\n",
       "      <td>7142T</td>\n",
       "      <td>26.646667</td>\n",
       "      <td>NaN</td>\n",
       "      <td>0.274558</td>\n",
       "      <td>NaN</td>\n",
       "      <td>21.0</td>\n",
       "      <td>NaN</td>\n",
       "      <td>102.05</td>\n",
       "    </tr>\n",
       "    <tr>\n",
       "      <th>366</th>\n",
       "      <td>ZIX-7054XX</td>\n",
       "      <td>RB005</td>\n",
       "      <td>SNP07</td>\n",
       "      <td>29.670000</td>\n",
       "      <td>NaN</td>\n",
       "      <td>0.142466</td>\n",
       "      <td>NaN</td>\n",
       "      <td>11.0</td>\n",
       "      <td>NaN</td>\n",
       "      <td>58.00</td>\n",
       "    </tr>\n",
       "    <tr>\n",
       "      <th>103</th>\n",
       "      <td>ILD843001</td>\n",
       "      <td>RB005</td>\n",
       "      <td>SSS42</td>\n",
       "      <td>NaN</td>\n",
       "      <td>NaN</td>\n",
       "      <td>0.274558</td>\n",
       "      <td>NaN</td>\n",
       "      <td>21.0</td>\n",
       "      <td>NaN</td>\n",
       "      <td>72.00</td>\n",
       "    </tr>\n",
       "    <tr>\n",
       "      <th>...</th>\n",
       "      <td>...</td>\n",
       "      <td>...</td>\n",
       "      <td>...</td>\n",
       "      <td>...</td>\n",
       "      <td>...</td>\n",
       "      <td>...</td>\n",
       "      <td>...</td>\n",
       "      <td>...</td>\n",
       "      <td>...</td>\n",
       "      <td>...</td>\n",
       "    </tr>\n",
       "    <tr>\n",
       "      <th>138</th>\n",
       "      <td>LCT-15-1098</td>\n",
       "      <td>7492</td>\n",
       "      <td>SUR-747(UV)</td>\n",
       "      <td>NaN</td>\n",
       "      <td>NaN</td>\n",
       "      <td>NaN</td>\n",
       "      <td>NaN</td>\n",
       "      <td>10.0</td>\n",
       "      <td>NaN</td>\n",
       "      <td>NaN</td>\n",
       "    </tr>\n",
       "    <tr>\n",
       "      <th>142</th>\n",
       "      <td>LCT-15-1098</td>\n",
       "      <td>7492</td>\n",
       "      <td>XN-5490H</td>\n",
       "      <td>NaN</td>\n",
       "      <td>NaN</td>\n",
       "      <td>NaN</td>\n",
       "      <td>NaN</td>\n",
       "      <td>10.0</td>\n",
       "      <td>NaN</td>\n",
       "      <td>NaN</td>\n",
       "    </tr>\n",
       "    <tr>\n",
       "      <th>42</th>\n",
       "      <td>BY20-Q18F</td>\n",
       "      <td>SE-7492</td>\n",
       "      <td>V386</td>\n",
       "      <td>NaN</td>\n",
       "      <td>NaN</td>\n",
       "      <td>NaN</td>\n",
       "      <td>NaN</td>\n",
       "      <td>NaN</td>\n",
       "      <td>NaN</td>\n",
       "      <td>136.50</td>\n",
       "    </tr>\n",
       "    <tr>\n",
       "      <th>171</th>\n",
       "      <td>LCT-15-1098</td>\n",
       "      <td>SE-7492</td>\n",
       "      <td>SUR-747(UV)</td>\n",
       "      <td>NaN</td>\n",
       "      <td>NaN</td>\n",
       "      <td>NaN</td>\n",
       "      <td>NaN</td>\n",
       "      <td>10.0</td>\n",
       "      <td>NaN</td>\n",
       "      <td>NaN</td>\n",
       "    </tr>\n",
       "    <tr>\n",
       "      <th>197</th>\n",
       "      <td>LCT-17-1336</td>\n",
       "      <td>RB005</td>\n",
       "      <td>XN-5490H</td>\n",
       "      <td>NaN</td>\n",
       "      <td>0.13</td>\n",
       "      <td>NaN</td>\n",
       "      <td>NaN</td>\n",
       "      <td>NaN</td>\n",
       "      <td>NaN</td>\n",
       "      <td>NaN</td>\n",
       "    </tr>\n",
       "  </tbody>\n",
       "</table>\n",
       "<p>362 rows × 10 columns</p>\n",
       "</div>"
      ],
      "text/plain": [
       "              LC       PI         Seal  Adhesion test  Δ angle  U-shape AC%  \\\n",
       "100    ILD843001    RB005       723K1M      22.065000      NaN     0.274558   \n",
       "102    ILD843001    RB005        SNP07      29.670000      NaN     0.274558   \n",
       "99     ILD843001    RB005        7142T      26.646667      NaN     0.274558   \n",
       "366   ZIX-7054XX    RB005        SNP07      29.670000      NaN     0.142466   \n",
       "103    ILD843001    RB005        SSS42            NaN      NaN     0.274558   \n",
       "..           ...      ...          ...            ...      ...          ...   \n",
       "138  LCT-15-1098     7492  SUR-747(UV)            NaN      NaN          NaN   \n",
       "142  LCT-15-1098     7492     XN-5490H            NaN      NaN          NaN   \n",
       "42     BY20-Q18F  SE-7492         V386            NaN      NaN          NaN   \n",
       "171  LCT-15-1098  SE-7492  SUR-747(UV)            NaN      NaN          NaN   \n",
       "197  LCT-17-1336    RB005     XN-5490H            NaN     0.13          NaN   \n",
       "\n",
       "     VHR(heat)   LTS  PCT  Seal WVTR  \n",
       "100      93.28  21.0  NaN     113.64  \n",
       "102        NaN  21.0  NaN      58.00  \n",
       "99         NaN  21.0  NaN     102.05  \n",
       "366        NaN  11.0  NaN      58.00  \n",
       "103        NaN  21.0  NaN      72.00  \n",
       "..         ...   ...  ...        ...  \n",
       "138        NaN  10.0  NaN        NaN  \n",
       "142        NaN  10.0  NaN        NaN  \n",
       "42         NaN   NaN  NaN     136.50  \n",
       "171        NaN  10.0  NaN        NaN  \n",
       "197        NaN   NaN  NaN        NaN  \n",
       "\n",
       "[362 rows x 10 columns]"
      ]
     },
     "execution_count": 28,
     "metadata": {},
     "output_type": "execute_result"
    }
   ],
   "source": [
    "ra_score.result['raw']"
   ]
  },
  {
   "cell_type": "code",
   "execution_count": 5,
   "id": "d93a8d11-257e-4ce8-96c6-59ead1dbae6f",
   "metadata": {},
   "outputs": [
    {
     "data": {
      "text/plain": [
       "<QuerySet [{'name': '7492'}, {'name': 'RB005'}, {'name': 'RB205'}, {'name': 'SE-7492'}]>"
      ]
     },
     "execution_count": 5,
     "metadata": {},
     "output_type": "execute_result"
    }
   ],
   "source": [
    "Polyimide.objects.all().values('name')"
   ]
  },
  {
   "cell_type": "code",
   "execution_count": 91,
   "id": "e553dd6f-c83e-4ea6-8a67-257c4ae702af",
   "metadata": {},
   "outputs": [
    {
     "data": {
      "text/plain": [
       "3.0"
      ]
     },
     "execution_count": 91,
     "metadata": {},
     "output_type": "execute_result"
    }
   ],
   "source": [
    "profile.u_shape_ac_weight"
   ]
  },
  {
   "cell_type": "code",
   "execution_count": 92,
   "id": "cb7a8192-5fb0-4edc-9387-6cf4551a9f68",
   "metadata": {},
   "outputs": [],
   "source": [
    "profile.delta_angle_weight = 3\n",
    "profile.voltage_holding_ratio_weight = 4\n",
    "profile.save()"
   ]
  },
  {
   "cell_type": "code",
   "execution_count": 36,
   "id": "c44480ca-30d1-4fae-aafc-560d1b336348",
   "metadata": {},
   "outputs": [
    {
     "data": {
      "text/html": [
       "<div>\n",
       "<style scoped>\n",
       "    .dataframe tbody tr th:only-of-type {\n",
       "        vertical-align: middle;\n",
       "    }\n",
       "\n",
       "    .dataframe tbody tr th {\n",
       "        vertical-align: top;\n",
       "    }\n",
       "\n",
       "    .dataframe thead th {\n",
       "        text-align: right;\n",
       "    }\n",
       "</style>\n",
       "<table border=\"1\" class=\"dataframe\">\n",
       "  <thead>\n",
       "    <tr style=\"text-align: right;\">\n",
       "      <th></th>\n",
       "      <th>1</th>\n",
       "    </tr>\n",
       "  </thead>\n",
       "  <tbody>\n",
       "    <tr>\n",
       "      <th>0</th>\n",
       "      <td>1</td>\n",
       "    </tr>\n",
       "    <tr>\n",
       "      <th>1</th>\n",
       "      <td>2</td>\n",
       "    </tr>\n",
       "    <tr>\n",
       "      <th>2</th>\n",
       "      <td>3</td>\n",
       "    </tr>\n",
       "  </tbody>\n",
       "</table>\n",
       "</div>"
      ],
      "text/plain": [
       "   1\n",
       "0  1\n",
       "1  2\n",
       "2  3"
      ]
     },
     "execution_count": 36,
     "metadata": {},
     "output_type": "execute_result"
    }
   ],
   "source": [
    "q = pd.DataFrame({\n",
    "    'a': [1, 2, 3]\n",
    "})\n",
    "q.columns=['1']\n",
    "q"
   ]
  },
  {
   "cell_type": "code",
   "execution_count": 2,
   "id": "23530297-466e-429a-999e-91928cbc2b52",
   "metadata": {},
   "outputs": [
    {
     "data": {
      "text/html": [
       "<div>\n",
       "<style scoped>\n",
       "    .dataframe tbody tr th:only-of-type {\n",
       "        vertical-align: middle;\n",
       "    }\n",
       "\n",
       "    .dataframe tbody tr th {\n",
       "        vertical-align: top;\n",
       "    }\n",
       "\n",
       "    .dataframe thead th {\n",
       "        text-align: right;\n",
       "    }\n",
       "</style>\n",
       "<table border=\"1\" class=\"dataframe\">\n",
       "  <thead>\n",
       "    <tr style=\"text-align: right;\">\n",
       "      <th></th>\n",
       "      <th>item 1</th>\n",
       "      <th>item 2</th>\n",
       "    </tr>\n",
       "  </thead>\n",
       "  <tbody>\n",
       "  </tbody>\n",
       "</table>\n",
       "</div>"
      ],
      "text/plain": [
       "Empty DataFrame\n",
       "Columns: [item 1, item 2]\n",
       "Index: []"
      ]
     },
     "execution_count": 2,
     "metadata": {},
     "output_type": "execute_result"
    }
   ],
   "source": [
    "import pandas as pd\n",
    "\n",
    "header = {\n",
    "    'sheet1': ['item 1', 'item 2'],\n",
    "    'sheet2': ['item 2', 'item 3']\n",
    "}\n",
    "\n",
    "pd.DataFrame(columns=header['sheet1'])"
   ]
  },
  {
   "cell_type": "code",
   "execution_count": 3,
   "id": "f8389432-cdc3-4091-bb94-1540072e9800",
   "metadata": {},
   "outputs": [
    {
     "data": {
      "text/plain": [
       "'teststring'"
      ]
     },
     "execution_count": 3,
     "metadata": {},
     "output_type": "execute_result"
    }
   ],
   "source": [
    "(\n",
    "    f'test'\n",
    "    f'string'\n",
    ")"
   ]
  },
  {
   "cell_type": "code",
   "execution_count": 7,
   "id": "9272459a-8ea0-4817-8973-7e5ab38a8ae8",
   "metadata": {},
   "outputs": [],
   "source": [
    "f = 'test' 'string'"
   ]
  },
  {
   "cell_type": "code",
   "execution_count": 14,
   "id": "9a3aefb7-30b4-4947-b7fd-bd87c40ec199",
   "metadata": {},
   "outputs": [
    {
     "data": {
      "text/plain": [
       "'1'"
      ]
     },
     "execution_count": 14,
     "metadata": {},
     "output_type": "execute_result"
    }
   ],
   "source": [
    "from __future__ import annotations\n",
    "\n",
    "f: int | str\n"
   ]
  },
  {
   "cell_type": "code",
   "execution_count": 15,
   "id": "3f2f27f2-57ca-4cf9-bbc9-bfb687d45574",
   "metadata": {},
   "outputs": [
    {
     "data": {
      "text/plain": [
       "Card(suit='Spades', rank='A')"
      ]
     },
     "execution_count": 15,
     "metadata": {},
     "output_type": "execute_result"
    }
   ],
   "source": [
    "from dataclasses import dataclass\n",
    "\n",
    "@dataclass\n",
    "class Card:\n",
    "    suit: str\n",
    "    rank: int\n",
    "    \n",
    "Card('Spades', 'A')"
   ]
  },
  {
   "cell_type": "code",
   "execution_count": 21,
   "id": "107ceab6-f456-4a76-b758-1016949f5d15",
   "metadata": {},
   "outputs": [],
   "source": [
    "from io import BytesIO\n",
    "import pandas as pd\n",
    "\n",
    "from config.settings.base import UPLOAD_TEMPLATE_DIR\n",
    "\n",
    "pseudo_get = 'material_upload_template'\n",
    "\n",
    "\n",
    "file_name = pseudo_get\n",
    "file_path = UPLOAD_TEMPLATE_DIR / (file_name + '.xlsx')\n",
    "\n",
    "df_map = pd.read_excel(file_path, sheet_name=None)\n",
    "\n",
    "buffer = BytesIO()\n",
    "with pd.ExcelWriter(buffer) as writer:\n",
    "    for item in df_map:\n",
    "        df_map[item].to_excel(writer, sheet_name=item, index=False)\n",
    "    pd.DataFrame({\n",
    "        'item': [],\n",
    "        'value': []\n",
    "    }).to_excel(writer, sheet_name='test', index=False)\n",
    "\n"
   ]
  },
  {
   "cell_type": "code",
   "execution_count": 22,
   "id": "c05f0977-da1c-4b7a-add3-26f7506d497d",
   "metadata": {},
   "outputs": [
    {
     "data": {
      "text/plain": [
       "{'LiquidCrystal': Empty DataFrame\n",
       " Columns: [Name, Vender, designed cell gap(um), Tni(°C), Tcn(°C), Flow Viscosity(ν)(mm^2/s), Rotational Viscosity(γ1)(mPa*s), n_e, n_o, ε_∥, ε_⟂, K11(pN), K22(pN), K33(pN), d(g/cm^3)]\n",
       " Index: [],\n",
       " 'Polyimide': Empty DataFrame\n",
       " Columns: [Name, Vender]\n",
       " Index: [],\n",
       " 'Seal': Empty DataFrame\n",
       " Columns: [Name, Vender]\n",
       " Index: [],\n",
       " 'test': Empty DataFrame\n",
       " Columns: [item, value]\n",
       " Index: []}"
      ]
     },
     "execution_count": 22,
     "metadata": {},
     "output_type": "execute_result"
    }
   ],
   "source": [
    "pd.read_excel(buffer, sheet_name=None)"
   ]
  },
  {
   "cell_type": "code",
   "execution_count": 1,
   "id": "2d407c2e-8333-4ceb-8aba-a363c33081c7",
   "metadata": {},
   "outputs": [
    {
     "ename": "NameError",
     "evalue": "name 'LiquidCrystal' is not defined",
     "output_type": "error",
     "traceback": [
      "\u001b[0;31m---------------------------------------------------------------------------\u001b[0m",
      "\u001b[0;31mNameError\u001b[0m                                 Traceback (most recent call last)",
      "Input \u001b[0;32mIn [1]\u001b[0m, in \u001b[0;36m<cell line: 1>\u001b[0;34m()\u001b[0m\n\u001b[0;32m----> 1\u001b[0m \u001b[43mLiquidCrystal\u001b[49m\u001b[38;5;241m.\u001b[39mobjects\u001b[38;5;241m.\u001b[39mall()\u001b[38;5;241m.\u001b[39mvalues(\u001b[38;5;124m'\u001b[39m\u001b[38;5;124mname\u001b[39m\u001b[38;5;124m'\u001b[39m)\n",
      "\u001b[0;31mNameError\u001b[0m: name 'LiquidCrystal' is not defined"
     ]
    }
   ],
   "source": [
    "LiquidCrystal.objects.all().values('name')"
   ]
  }
 ],
 "metadata": {
  "kernelspec": {
   "display_name": "Django Shell-Plus",
   "language": "python",
   "name": "django_extensions"
  },
  "language_info": {
   "codemirror_mode": {
    "name": "ipython",
    "version": 3
   },
   "file_extension": ".py",
   "mimetype": "text/x-python",
   "name": "python",
   "nbconvert_exporter": "python",
   "pygments_lexer": "ipython3",
   "version": "3.8.12"
  }
 },
 "nbformat": 4,
 "nbformat_minor": 5
}
