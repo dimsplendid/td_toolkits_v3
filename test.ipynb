{
 "cells": [
  {
   "cell_type": "code",
   "execution_count": 5,
   "id": "b45a07a5-97c3-450c-be91-b6f837f65e18",
   "metadata": {},
   "outputs": [],
   "source": [
    "import pandas as pd\n",
    "from datetime import datetime\n",
    "import pytz\n",
    "\n",
    "path = './td_toolkits_v3/opticals/tests/test_files/optical_measures/New-155324.csv'\n",
    "\n",
    "df = pd.read_csv(path, encoding_errors='ignore')"
   ]
  },
  {
   "cell_type": "code",
   "execution_count": 2,
   "id": "0590bd27-b60c-48d2-8934-dea8f3013753",
   "metadata": {},
   "outputs": [
    {
     "name": "stdout",
     "output_type": "stream",
     "text": [
      "2021/03/24\n"
     ]
    }
   ],
   "source": [
    "print(df.iloc[0, 0])\n"
   ]
  },
  {
   "cell_type": "code",
   "execution_count": 3,
   "id": "bdefb174-5d51-4cf1-946c-463f4e1d6e4e",
   "metadata": {},
   "outputs": [],
   "source": [
    "x = []\n",
    "\n",
    "for i in range(len(df.head())):\n",
    "    x.append(datetime.strptime(f'{df.iloc[i,0]} {df.iloc[i,1]}', '%Y/%m/%d %H:%M:%S'))"
   ]
  },
  {
   "cell_type": "code",
   "execution_count": 14,
   "id": "36bcaebe-9033-4e8a-ba10-b4f0185aee8a",
   "metadata": {},
   "outputs": [
    {
     "data": {
      "text/plain": [
       "(datetime.datetime(2021, 3, 24, 13, 2, 4),\n",
       " datetime.datetime(2021, 3, 24, 13, 2, 4, tzinfo=<DstTzInfo 'Asia/Taipei' LMT+8:06:00 STD>))"
      ]
     },
     "execution_count": 14,
     "metadata": {},
     "output_type": "execute_result"
    }
   ],
   "source": [
    "x[0], x[0].replace(tzinfo=pytz.timezone('Asia/Taipei'))"
   ]
  },
  {
   "cell_type": "code",
   "execution_count": 10,
   "id": "cd7d331c-f7f6-457b-bcb1-26a5b9b2e311",
   "metadata": {},
   "outputs": [
    {
     "data": {
      "text/plain": [
       "'Taiwan'"
      ]
     },
     "execution_count": 10,
     "metadata": {},
     "output_type": "execute_result"
    }
   ],
   "source": [
    "pytz.country_names['tw']"
   ]
  },
  {
   "cell_type": "code",
   "execution_count": 8,
   "id": "8482a32a-a4a1-4991-b326-e4a198292204",
   "metadata": {},
   "outputs": [
    {
     "data": {
      "text/plain": [
       "Index(['Data', 'M_Time', 'ID', 'Point', 'Station', 'Operator', 'Voltage',\n",
       "       'I.Time', 'AR_T%()', 'AR_T%(//)', 'LCM_X%', 'LCM_Y%', 'LCM_Z%', 'RX',\n",
       "       'RY', 'RZ', 'GX', 'GY', 'GZ', 'BX', 'BY', 'BZ', 'WX', 'WY', 'WZ', 'CG%',\n",
       "       'R_x', 'R_y', 'G_x', 'G_y', 'B_x', 'B_y', 'W_x', 'W_y', 'RX_max',\n",
       "       'GY_max', 'BZ_max', 'V_RX_max', 'V_GY_max', 'V_BZ_max', 'WX'', 'WY'',\n",
       "       'WZ'', 'W_x'', 'W_x'.1', 'LCM_X%max', 'LCM_Y%max', 'LCM_Z%max',\n",
       "       'p_(Ymax)', 'p_(Ymax).1', 'p_(Zmax)', 'p_tol_X', 'p_tol_Y', 'p_tol_Z',\n",
       "       'T0/Tmax_X', 'T0/Tmax_Y', 'T0/Tmax_Z', 'Vcri_X', 'Vcri_Y', 'Vcri_Z',\n",
       "       'dp_X', 'dp_Y', 'dp_Z', 'Unnamed: 63'],\n",
       "      dtype='object')"
      ]
     },
     "execution_count": 8,
     "metadata": {},
     "output_type": "execute_result"
    }
   ],
   "source": [
    "df.columns"
   ]
  },
  {
   "cell_type": "code",
   "execution_count": 9,
   "id": "2371db8d-f36c-456a-ad77-ff64184eab13",
   "metadata": {},
   "outputs": [
    {
     "data": {
      "text/html": [
       "<div>\n",
       "<style scoped>\n",
       "    .dataframe tbody tr th:only-of-type {\n",
       "        vertical-align: middle;\n",
       "    }\n",
       "\n",
       "    .dataframe tbody tr th {\n",
       "        vertical-align: top;\n",
       "    }\n",
       "\n",
       "    .dataframe thead th {\n",
       "        text-align: right;\n",
       "    }\n",
       "</style>\n",
       "<table border=\"1\" class=\"dataframe\">\n",
       "  <thead>\n",
       "    <tr style=\"text-align: right;\">\n",
       "      <th></th>\n",
       "      <th>Operator</th>\n",
       "      <th>Voltage</th>\n",
       "      <th>I.Time</th>\n",
       "      <th>AR_T%()</th>\n",
       "      <th>AR_T%(//)</th>\n",
       "    </tr>\n",
       "  </thead>\n",
       "  <tbody>\n",
       "    <tr>\n",
       "      <th>0</th>\n",
       "      <td>11067785</td>\n",
       "      <td>0.0</td>\n",
       "      <td>8</td>\n",
       "      <td>0.000439</td>\n",
       "      <td>0.534386</td>\n",
       "    </tr>\n",
       "    <tr>\n",
       "      <th>1</th>\n",
       "      <td>11067785</td>\n",
       "      <td>0.4</td>\n",
       "      <td>8</td>\n",
       "      <td>0.000315</td>\n",
       "      <td>0.534386</td>\n",
       "    </tr>\n",
       "    <tr>\n",
       "      <th>2</th>\n",
       "      <td>11067785</td>\n",
       "      <td>0.8</td>\n",
       "      <td>8</td>\n",
       "      <td>0.000526</td>\n",
       "      <td>0.534386</td>\n",
       "    </tr>\n",
       "    <tr>\n",
       "      <th>3</th>\n",
       "      <td>11067785</td>\n",
       "      <td>1.2</td>\n",
       "      <td>8</td>\n",
       "      <td>0.000579</td>\n",
       "      <td>0.534386</td>\n",
       "    </tr>\n",
       "    <tr>\n",
       "      <th>4</th>\n",
       "      <td>11067785</td>\n",
       "      <td>1.6</td>\n",
       "      <td>8</td>\n",
       "      <td>0.000726</td>\n",
       "      <td>0.534386</td>\n",
       "    </tr>\n",
       "  </tbody>\n",
       "</table>\n",
       "</div>"
      ],
      "text/plain": [
       "   Operator  Voltage  I.Time   AR_T%()  AR_T%(//)\n",
       "0  11067785      0.0       8  0.000439   0.534386\n",
       "1  11067785      0.4       8  0.000315   0.534386\n",
       "2  11067785      0.8       8  0.000526   0.534386\n",
       "3  11067785      1.2       8  0.000579   0.534386\n",
       "4  11067785      1.6       8  0.000726   0.534386"
      ]
     },
     "execution_count": 9,
     "metadata": {},
     "output_type": "execute_result"
    }
   ],
   "source": [
    "df.iloc[:5, 5:10]"
   ]
  },
  {
   "cell_type": "code",
   "execution_count": 11,
   "id": "beb1dd8a-4822-4653-a37c-5e1ef234ec77",
   "metadata": {},
   "outputs": [
    {
     "data": {
      "text/plain": [
       "array([8])"
      ]
     },
     "execution_count": 11,
     "metadata": {},
     "output_type": "execute_result"
    }
   ],
   "source": [
    "df['I.Time'].unique()"
   ]
  },
  {
   "cell_type": "code",
   "execution_count": 4,
   "id": "519a9062-1e59-4b5a-ba4a-25f29f1e3962",
   "metadata": {},
   "outputs": [],
   "source": [
    "import os\n",
    "_, _, files = next(os.walk('/home/dimsplendid/Documents/td_toolkits_v3/td_toolkits_v3/opticals/tests/test_files/axo'))\n",
    "\n",
    "chip_names = []\n",
    "for file in files:\n",
    "    chips = file.split('.')[0]\n",
    "    chip_names += [chip.strip() for chip in chips.split('+')]\n",
    "    \n",
    "chip_names.sort()"
   ]
  },
  {
   "cell_type": "code",
   "execution_count": 6,
   "id": "c8fb05aa-698e-49c2-ae53-2ac27468c57d",
   "metadata": {},
   "outputs": [
    {
     "name": "stdout",
     "output_type": "stream",
     "text": [
      "['1-32']\n"
     ]
    }
   ],
   "source": [
    "import collections\n",
    "print([item for item, count in collections.Counter(chip_names).items() if count > 1])"
   ]
  }
 ],
 "metadata": {
  "kernelspec": {
   "display_name": "Python 3 (ipykernel)",
   "language": "python",
   "name": "python3"
  },
  "language_info": {
   "codemirror_mode": {
    "name": "ipython",
    "version": 3
   },
   "file_extension": ".py",
   "mimetype": "text/x-python",
   "name": "python",
   "nbconvert_exporter": "python",
   "pygments_lexer": "ipython3",
   "version": "3.8.12"
  }
 },
 "nbformat": 4,
 "nbformat_minor": 5
}
