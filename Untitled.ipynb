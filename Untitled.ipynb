{
 "cells": [
  {
   "cell_type": "code",
   "execution_count": 1,
   "id": "67056af0-f547-4c8b-bdde-fcde78a7fb70",
   "metadata": {},
   "outputs": [
    {
     "data": {
      "text/plain": [
       "2"
      ]
     },
     "execution_count": 1,
     "metadata": {},
     "output_type": "execute_result"
    }
   ],
   "source": [
    "OpticalReference.objects.all().count()"
   ]
  },
  {
   "cell_type": "code",
   "execution_count": 13,
   "id": "ad8b6d9c-aa4e-492b-8c4b-d72ee1bfae95",
   "metadata": {},
   "outputs": [],
   "source": [
    "from sympy import *\n",
    "from sympy.abc import x, y, z, n\n",
    "\n",
    "A = Matrix([\n",
    "    [0, 1],\n",
    "    [1, 1],\n",
    "])\n",
    "\n",
    "v1 = Matrix([\n",
    "    2, 1+sqrt(5)\n",
    "])\n",
    "\n",
    "v2 = Matrix([\n",
    "    2, 1-sqrt(5)\n",
    "])"
   ]
  },
  {
   "cell_type": "code",
   "execution_count": 8,
   "id": "6d309a82-84d6-496d-9173-18ca4f21b1be",
   "metadata": {},
   "outputs": [],
   "source": [
    "M = Matrix([v1.transpose(), v2.transpose()]).transpose()"
   ]
  },
  {
   "cell_type": "code",
   "execution_count": 14,
   "id": "3c17731c-26bf-4908-a459-a5f52a190cdc",
   "metadata": {},
   "outputs": [
    {
     "data": {
      "text/latex": [
       "$\\displaystyle \\left( n \\mapsto \\left[\\begin{matrix}- \\frac{\\left(-5 - \\sqrt{5}\\right) \\left(\\frac{1}{2} - \\frac{\\sqrt{5}}{2}\\right)^{n}}{\\left(- \\frac{1}{2} + \\frac{\\sqrt{5}}{2}\\right) \\left(5 + 5 \\sqrt{5}\\right)} + \\frac{2 \\sqrt{5} \\left(\\frac{1}{2} + \\frac{\\sqrt{5}}{2}\\right)^{n}}{5 \\cdot \\left(1 + \\sqrt{5}\\right)} & - \\frac{\\left(\\frac{1}{2} - \\frac{\\sqrt{5}}{2}\\right)^{n} \\left(\\frac{1}{2} - \\frac{\\sqrt{5}}{10}\\right)}{- \\frac{1}{2} + \\frac{\\sqrt{5}}{2}} + \\frac{4 \\sqrt{5} \\left(\\frac{1}{2} + \\frac{\\sqrt{5}}{2}\\right)^{n}}{\\left(-5 + 5 \\sqrt{5}\\right) \\left(1 + \\sqrt{5}\\right)}\\\\\\frac{\\left(-5 - \\sqrt{5}\\right) \\left(\\frac{1}{2} - \\frac{\\sqrt{5}}{2}\\right)^{n}}{5 + 5 \\sqrt{5}} + \\frac{\\sqrt{5} \\left(\\frac{1}{2} + \\frac{\\sqrt{5}}{2}\\right)^{n}}{5} & \\left(\\frac{1}{2} - \\frac{\\sqrt{5}}{2}\\right)^{n} \\left(\\frac{1}{2} - \\frac{\\sqrt{5}}{10}\\right) + \\frac{2 \\sqrt{5} \\left(\\frac{1}{2} + \\frac{\\sqrt{5}}{2}\\right)^{n}}{-5 + 5 \\sqrt{5}}\\end{matrix}\\right] \\right)$"
      ],
      "text/plain": [
       "Lambda(n, Matrix([\n",
       "[-(-5 - sqrt(5))*(1/2 - sqrt(5)/2)**n/((-1/2 + sqrt(5)/2)*(5 + 5*sqrt(5))) + 2*sqrt(5)*(1/2 + sqrt(5)/2)**n/(5*(1 + sqrt(5))), -(1/2 - sqrt(5)/2)**n*(1/2 - sqrt(5)/10)/(-1/2 + sqrt(5)/2) + 4*sqrt(5)*(1/2 + sqrt(5)/2)**n/((-5 + 5*sqrt(5))*(1 + sqrt(5)))],\n",
       "[                                        (-5 - sqrt(5))*(1/2 - sqrt(5)/2)**n/(5 + 5*sqrt(5)) + sqrt(5)*(1/2 + sqrt(5)/2)**n/5,                                     (1/2 - sqrt(5)/2)**n*(1/2 - sqrt(5)/10) + 2*sqrt(5)*(1/2 + sqrt(5)/2)**n/(-5 + 5*sqrt(5))]]))"
      ]
     },
     "execution_count": 14,
     "metadata": {},
     "output_type": "execute_result"
    }
   ],
   "source": [
    "f = Lambda(n, A**n)\n",
    "f"
   ]
  },
  {
   "cell_type": "code",
   "execution_count": 18,
   "id": "ec21917c-d961-4ac6-9ce4-8f0a4adbaac6",
   "metadata": {},
   "outputs": [
    {
     "data": {
      "text/latex": [
       "$\\displaystyle \\left[\\begin{matrix}1 & 1\\\\1 & 2\\end{matrix}\\right]$"
      ],
      "text/plain": [
       "Matrix([\n",
       "[1, 1],\n",
       "[1, 2]])"
      ]
     },
     "execution_count": 18,
     "metadata": {},
     "output_type": "execute_result"
    }
   ],
   "source": [
    "A**2"
   ]
  }
 ],
 "metadata": {
  "kernelspec": {
   "display_name": "Django Shell-Plus",
   "language": "python",
   "name": "django_extensions"
  },
  "language_info": {
   "codemirror_mode": {
    "name": "ipython",
    "version": 3
   },
   "file_extension": ".py",
   "mimetype": "text/x-python",
   "name": "python",
   "nbconvert_exporter": "python",
   "pygments_lexer": "ipython3",
   "version": "3.8.12"
  }
 },
 "nbformat": 4,
 "nbformat_minor": 5
}
